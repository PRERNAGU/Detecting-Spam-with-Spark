{
 "cells": [
  {
   "cell_type": "markdown",
   "metadata": {
    "colab_type": "text",
    "id": "x3aJEGS5keqH"
   },
   "source": [
    "# Coursework Part 1: Detecting Spam with Spark\n",
    "\n",
    "These are the tasks for IN432 Big Data coursework 2020, part 1.  \n",
    "\n",
    "This coursework is about classification of e-mail messages as spam or non-spam in Spark. We will go through the whole process from loading and preprocessing to training and testing classifiers in a distributed way in Spark. We wil use the techniques shown in the lextures and labs. A few additional elements will be introduced here, such as the Natural Language ToolKit (NLTK) and some of the preprocessing and machine learning functions that come with Spark. You are not expected to need anything beyond the material handed out so far and in some cases the Spark documentation, which is linked from this document.  \n",
    "\n",
    "The structure is similar to the lab sheets. A code structure is provided with gaps that you are supposed to fill in. In addition you should run 2 small experiments and comment on the results. The lines where you are supposed to add code or take another action are marked with \">>>\" \n",
    "please leave the \">>>\" in the text, comment out that line, and write your own code in the next line using a copy of that line as a starting point.\n",
    "\n",
    "Numerous comments have been added in the text and code cells to guide you through the program. Please read them carefully and ask if anything is unclear. \n",
    "\n",
    "Once you have completed the tasks, don't delete the outputs, but download the notebook by clicking on *File* ➡︎ *Download .ipynb* (outputs will be included) and upload it into the coursework submission area on Moodle. This part counts for 50% of the total coursework."
   ]
  },
  {
   "cell_type": "markdown",
   "metadata": {
    "colab_type": "text",
    "id": "CdFlCqCFkeqL"
   },
   "source": [
    "## Load and prepare the data\n",
    "\n",
    "We will use the lingspam dataset in this coursework (see [http://csmining.org/index.php/ling-spam-datasets.html](http://csmining.org/index.php/ling-spam-datasets.html) for more information).\n",
    "\n",
    "The next cells only prepare the machine, as usual."
   ]
  },
  {
   "cell_type": "code",
   "execution_count": 0,
   "metadata": {
    "colab": {
     "base_uri": "https://localhost:8080/",
     "height": 124
    },
    "colab_type": "code",
    "id": "dHGQ78mTkeqO",
    "outputId": "ee5d5a6b-e9ce-4e0f-e831-63e63a2a7cc0"
   },
   "outputs": [
    {
     "name": "stdout",
     "output_type": "stream",
     "text": [
      "Go to this URL in a browser: https://accounts.google.com/o/oauth2/auth?client_id=947318989803-6bn6qk8qdgf4n4g3pfee6491hc0brc4i.apps.googleusercontent.com&redirect_uri=urn%3aietf%3awg%3aoauth%3a2.0%3aoob&response_type=code&scope=email%20https%3a%2f%2fwww.googleapis.com%2fauth%2fdocs.test%20https%3a%2f%2fwww.googleapis.com%2fauth%2fdrive%20https%3a%2f%2fwww.googleapis.com%2fauth%2fdrive.photos.readonly%20https%3a%2f%2fwww.googleapis.com%2fauth%2fpeopleapi.readonly\n",
      "\n",
      "Enter your authorization code:\n",
      "··········\n",
      "Mounted at /content/drive\n"
     ]
    }
   ],
   "source": [
    "# Load the Drive helper and mount\n",
    "from google.colab import drive\n",
    "\n",
    "# This will prompt for authorization.\n",
    "drive.mount('/content/drive')"
   ]
  },
  {
   "cell_type": "code",
   "execution_count": 0,
   "metadata": {
    "colab": {
     "base_uri": "https://localhost:8080/",
     "height": 87
    },
    "colab_type": "code",
    "id": "0-hhNOS0keqW",
    "outputId": "b5210c2c-69b2-4013-9018-f38c49a59236"
   },
   "outputs": [
    {
     "name": "stdout",
     "output_type": "stream",
     "text": [
      "/root\n",
      "/content\n",
      "<SparkContext master=local[*] appName=pyspark-shell>\n",
      "<pyspark.sql.session.SparkSession object at 0x7f46d16087b8>\n"
     ]
    }
   ],
   "source": [
    "%cd\n",
    "!apt-get install openjdk-8-jdk-headless -qq > /dev/null\n",
    "!wget -q https://archive.apache.org/dist/spark/spark-2.4.5/spark-2.4.5-bin-hadoop2.7.tgz\n",
    "!tar -xvf spark-2.4.5-bin-hadoop2.7.tgz > /dev/null\n",
    "!pip install -q findspark\n",
    "import os \n",
    "os.environ[\"JAVA_HOME\"] = \"/usr/lib/jvm/java-8-openjdk-amd64\"\n",
    "os.environ[\"SPARK_HOME\"] = \"/root/spark-2.4.5-bin-hadoop2.7\"\n",
    "%cd /content\n",
    "import findspark\n",
    "findspark.init()\n",
    "\n",
    "import pyspark\n",
    "# get a spark context\n",
    "sc = pyspark.SparkContext.getOrCreate()\n",
    "print(sc)\n",
    "# get the context\n",
    "spark = pyspark.sql.SparkSession.builder.getOrCreate()\n",
    "print(spark) "
   ]
  },
  {
   "cell_type": "code",
   "execution_count": 0,
   "metadata": {
    "colab": {
     "base_uri": "https://localhost:8080/",
     "height": 641
    },
    "colab_type": "code",
    "id": "nncrHFdwqUmE",
    "outputId": "3de6da7d-92bf-45ab-ca46-183a7a2099f2"
   },
   "outputs": [
    {
     "name": "stdout",
     "output_type": "stream",
     "text": [
      "/content/drive/My Drive/BigData2020/data/lingspam_public\n",
      "This directory contains the Ling-Spam corpus, as described in the \n",
      "paper:\n",
      "\n",
      "I. Androutsopoulos, J. Koutsias, K.V. Chandrinos, George Paliouras, \n",
      "and C.D. Spyropoulos, \"An Evaluation of Naive Bayesian Anti-Spam \n",
      "Filtering\". In Potamias, G., Moustakis, V. and van Someren, M. (Eds.), \n",
      "Proceedings of the Workshop on Machine Learning in the New Information \n",
      "Age, 11th European Conference on Machine Learning (ECML 2000), \n",
      "Barcelona, Spain, pp. 9-17, 2000.\n",
      "\n",
      "There are four subdirectories, corresponding to four versions of \n",
      "the corpus:\n",
      "\n",
      "bare: Lemmatiser disabled, stop-list disabled.\n",
      "lemm: Lemmatiser enabled, stop-list disabled.\n",
      "lemm_stop: Lemmatiser enabled, stop-list enabled.\n",
      "stop: Lemmatiser disabled, stop-list enabled.\n",
      "\n",
      "Each one of these 4 directories contains 10 subdirectories (part1, \n",
      "..., part10). These correspond to the 10 partitions of the corpus \n",
      "that were used in the 10-fold experiments. In each repetition, one \n",
      "part was reserved for testing and the other 9 were used for training. \n",
      "\n",
      "Each one of the 10 subdirectories contains both spam and legitimate \n",
      "messages, one message in each file. Files whose names have the form\n",
      "spmsg*.txt are spam messages. All other files are legitimate messages.\n",
      "\n",
      "By obtaining a copy of this corpus you agree to acknowledge the use \n",
      "and origin of the corpus in any published work of yours that makes \n",
      "use of the corpus, and to notify the person below about this work.\n",
      "\n",
      "Ion Androutsopoulos \n",
      "http://www.aueb.gr/users/ion/\n",
      "Ling-Spam corpus last updated: July 17, 2000\n",
      "This file (readme.txt) last updated: July 30, 2003.\n"
     ]
    }
   ],
   "source": [
    "# We have a new dataset in directory BigData2020/data/lingspam_public .\n",
    "%cd /content/drive/My Drive/BigData2020/data/lingspam_public \n",
    "# the line above should output should show \"bare  lemm  lemm_stop  readme.txt  stop\"\n",
    "!cat readme.txt\n",
    "# the line above shows the content of the readme file, which explains the structure of the dataset\n",
    "# Lemmatisation is a process similar to stemming"
   ]
  },
  {
   "cell_type": "markdown",
   "metadata": {
    "colab_type": "text",
    "id": "nb02XcMOkeqq"
   },
   "source": [
    "## Task 1) Read the dataset and create RDDs \n",
    "a) Start by reading the directory with text files from the file system (`/content/drive/My Drive/BigData2020/data/lingspam_public`). Load all text files per directory (`part1, part2, ... , part10`) using `wholeTextFiles()`, which creates one RDD per part, containing tuples `(filename, text)`. This is a good choice as the text files are small. (5%)\n",
    "\n",
    "b) We will use one of the RDDs as test set, the rest as training set. For the training set you need to create the union of the remaining RDDs. (5%)\n",
    "\n",
    "c) Remove the path and extension from the filename using the regular expression provided. (5%)\n",
    "\n",
    "If the filename starts with 'spmsg' it is spam, otherwise it is not. We'll use that later to train a classifier. \n",
    "\n",
    "We will put the code in each cell into a function that we can reuse later. This way, we can develop the whole preprocessing with the smaller test set and apply it to the training set once we know that everything works. "
   ]
  },
  {
   "cell_type": "code",
   "execution_count": 0,
   "metadata": {
    "colab": {
     "base_uri": "https://localhost:8080/",
     "height": 384
    },
    "colab_type": "code",
    "id": "H7iF1lZukeqt",
    "outputId": "2c6dbf4c-171c-45f2-cf3b-46c6bf507030"
   },
   "outputs": [
    {
     "name": "stdout",
     "output_type": "stream",
     "text": [
      "/content/drive/My Drive/BigData2020/data/lingspam_public\n",
      "bare  lemm  lemm_stop  readme.txt  stop\n",
      "creating RDDs\n",
      "/content/drive/My Drive/BigData2020/data/lingspam_public/bare/part10\n",
      "/content/drive/My Drive/BigData2020/data/lingspam_public/bare/part9\n",
      "/content/drive/My Drive/BigData2020/data/lingspam_public/bare/part8\n",
      "/content/drive/My Drive/BigData2020/data/lingspam_public/bare/part7\n",
      "/content/drive/My Drive/BigData2020/data/lingspam_public/bare/part6\n",
      "/content/drive/My Drive/BigData2020/data/lingspam_public/bare/part5\n",
      "/content/drive/My Drive/BigData2020/data/lingspam_public/bare/part4\n",
      "/content/drive/My Drive/BigData2020/data/lingspam_public/bare/part3\n",
      "/content/drive/My Drive/BigData2020/data/lingspam_public/bare/part2\n",
      "/content/drive/My Drive/BigData2020/data/lingspam_public/bare/part1\n",
      "len(rddList) 10\n",
      "creating RDD union\n",
      "created the RDDs\n",
      "testRDD.count():  289\n",
      "testRDD.getNumPartitions(): 2\n",
      "testRDD.getStorageLevel(): Serialized 1x Replicated\n",
      "testRDD.take(1):  [('3-1msg1', 'Subject: re : 2 . 882 s - > np np\\n\\n> date : sun , 15 dec 91 02 : 25 : 02 est > from : michael < mmorse @ vm1 . yorku . ca > > subject : re : 2 . 864 queries > > wlodek zadrozny asks if there is \" anything interesting \" to be said > about the construction \" s > np np \" . . . second , > and very much related : might we consider the construction to be a form > of what has been discussed on this list of late as reduplication ? the > logical sense of \" john mcnamara the name \" is tautologous and thus , at > that level , indistinguishable from \" well , well now , what have we here ? \" . to say that \\' john mcnamara the name \\' is tautologous is to give support to those who say that a logic-based semantics is irrelevant to natural language . in what sense is it tautologous ? it supplies the value of an attribute followed by the attribute of which it is the value . if in fact the value of the name-attribute for the relevant entity were \\' chaim shmendrik \\' , \\' john mcnamara the name \\' would be false . no tautology , this . ( and no reduplication , either . )\\n')]\n"
     ]
    }
   ],
   "source": [
    "from pathlib import Path\n",
    "import re\n",
    "\n",
    "def makeTestTrainRDDs(pathString):\n",
    "    \"\"\" Takes one of the four subdirectories of the lingspam dataset and returns two RDDs one each for testing and training. \"\"\"\n",
    "    # We should see 10 parts that we can use for creating train and test sets.\n",
    "    p = Path(pathString) # gets a path object representing the current directory path.\n",
    "    dirs = list(p.iterdir()) # get the directories part1 ... part10. \n",
    "    #print(dirs) # Print to check that you have the right directory. You can comment this out when checked. \n",
    "    rddList = [] # create a list for the RDDs\n",
    "    # now create an RDD for each 'part' directory and add them to rddList\n",
    "    print('creating RDDs')\n",
    "    for d in dirs: # iterate through the directories\n",
    "        dir_path = str(d.resolve())\n",
    "        print(dir_path)\n",
    "#>>> # read the files in the directory\n",
    "        rdd = sc.wholeTextFiles(dir_path)\n",
    "#>>> append the RDD to the rddList\n",
    "        rddList.append(rdd)\n",
    "\n",
    "    print('len(rddList)', len(rddList))  # we should now have 10 RDDs in the list # just for testing\n",
    "    #print(rddList[1].take(1)) # just for testing, comment out when it works.\n",
    "\n",
    "    testRDD1 = rddList[9] # set the test set\n",
    "    trainRDD1 = rddList[0] # start the training set from 0 and \n",
    "    # now loop over the range from 1 to 9 (exclusive) to create a union of the remaining RDDs\n",
    "    print('creating RDD union')\n",
    "    for i in range(1, 9):\n",
    "        trainRDD1 = trainRDD1.union(rddList[i]) #>>> create a union of the current and the next \n",
    "            # RDD in the list, so that in the end we have a union of all parts 0-8. (9 is used as test set)\n",
    "    # both RDDs should remove the paths and extensions from the filename. \n",
    "    #>>> This regular expression will do it: re.split('[/\\.]', fn_txt[0])[-2]\n",
    "    #>>> apply it to the filenames in train and test RDD with a lambda\n",
    "        testRDD2 = testRDD1.map(lambda fn_txt: (re.split('[/\\.]', fn_txt[0])[-2], fn_txt[1])) \n",
    "        trainRDD2 = trainRDD1.map(lambda fn_txt: (re.split('[/\\.]', fn_txt[0])[-2], fn_txt[1])) \n",
    "    return (trainRDD2, testRDD2)\n",
    "\n",
    "# this makes sure we are in the right directory\n",
    "%cd /content/drive/My Drive/BigData2020/data/lingspam_public \n",
    "# this should show \"bare  lemm  lemm_stop  readme.txt  stop\"\n",
    "!ls \n",
    "# the code below is for testing the function makeTestTrainRDDs\n",
    "trainRDD_testRDD = makeTestTrainRDDs('bare') # read from the 'bare' directory - this takes a bit of time\n",
    "(trainRDD, testRDD) = trainRDD_testRDD # unpack the returned tuple\n",
    "print('created the RDDs') # notify the user, so that we can figure out where things went wrong if they do.\n",
    "print('testRDD.count(): ', testRDD.count()) # should be ~289\n",
    "#print('trainRDD.count(): ', trainRDD.count()) # should be ~2604 - commented out to save time as it takes some time to create RDD from all the files\n",
    "print('testRDD.getNumPartitions():', testRDD.getNumPartitions()) # normally 2 on Colab (single machine)\n",
    "print('testRDD.getStorageLevel():', testRDD.getStorageLevel()) # Serialized, 1x Replicated, expected to be (False, False, False, False, 1) \n",
    "print('testRDD.take(1): ', testRDD.take(1)) # should be (filename, message) \n",
    "rdd1 = testRDD # use this for development in the next tasks "
   ]
  },
  {
   "cell_type": "markdown",
   "metadata": {
    "colab_type": "text",
    "id": "oUKltxq5keqw"
   },
   "source": [
    "## Task 2) Tokenize and remove punctuation\n",
    "\n",
    "Now we need to split the words, a process called *tokenization* by linguists, and remove punctuation. \n",
    "\n",
    "a) We will use the Python [Natural Language Toolkit](http://www.nltk.org) (*NLTK*) to do the tokenization (rather than splitting ourselves, as these specialist tools usually do that better than we can ourselves). We use the NLTK function word_tokenize, see here for a code example: [http://www.nltk.org/book/ch03.html](http://www.nltk.org/book/ch03.html). (5%)\n",
    "\n",
    "b) Then we will remove punctuation. There is no specific function for this, so we use a regular expression (see here for info [https://docs.python.org/3/library/re.html#module-re](https://docs.python.org/3/library/re.html#module-re)) in a list comprehension (here's a nice visual explanation: [http://treyhunner.com/2015/12/python-list-comprehensions-now-in-color/](http://treyhunner.com/2015/12/python-list-comprehensions-now-in-color/)). (5%)\n",
    "\n",
    "c) We use a new technique here: we separate keys and values of the RDD, using the RDD functions `keys()` and `values()`, each of which yield a new RDD. Then we process the values and *zip* them together with the keys again. See here for documentation: [http://spark.apache.org/docs/2.4.5/api/python/pyspark.html#pyspark.RDD.zip](http://spark.apache.org/docs/2.4.5/api/python/pyspark.html#pyspark.RDD.zip).  We wrap the whole sequence into one function `prepareTokenRDD` for later use. (5%)"
   ]
  },
  {
   "cell_type": "code",
   "execution_count": 0,
   "metadata": {
    "colab": {
     "base_uri": "https://localhost:8080/",
     "height": 55
    },
    "colab_type": "code",
    "id": "AB_nfmhYkeqx",
    "outputId": "eedd7421-5b77-468a-9bca-2f0f96f98d9f",
    "scrolled": true
   },
   "outputs": [
    {
     "name": "stdout",
     "output_type": "stream",
     "text": [
      "[('3-1msg1', ['Subject', ':', 're', ':', '2', '882', 's', '-', '>', 'np', 'np', '>', 'date', ':', 'sun', '15', 'dec', '91', '02', ':', '25', ':', '02', 'est', '>', 'from', ':', 'michael', '<', 'mmorse', '@', 'vm1', 'yorku', 'ca', '>', '>', 'subject', ':', 're', ':', '2', '864', 'queries', '>', '>', 'wlodek', 'zadrozny', 'asks', 'if', 'there', 'is', '``', 'anything', 'interesting', '``', 'to', 'be', 'said', '>', 'about', 'the', 'construction', '``', 's', '>', 'np', 'np', '``', 'second', '>', 'and', 'very', 'much', 'related', ':', 'might', 'we', 'consider', 'the', 'construction', 'to', 'be', 'a', 'form', '>', 'of', 'what', 'has', 'been', 'discussed', 'on', 'this', 'list', 'of', 'late', 'as', 'reduplication', 'the', '>', 'logical', 'sense', 'of', '``', 'john', 'mcnamara', 'the', 'name', '``', 'is', 'tautologous', 'and', 'thus', 'at', '>', 'that', 'level', 'indistinguishable', 'from', '``', 'well', 'well', 'now', 'what', 'have', 'we', 'here', '``', 'to', 'say', 'that', \"'\", 'john', 'mcnamara', 'the', 'name', \"'\", 'is', 'tautologous', 'is', 'to', 'give', 'support', 'to', 'those', 'who', 'say', 'that', 'a', 'logic-based', 'semantics', 'is', 'irrelevant', 'to', 'natural', 'language', 'in', 'what', 'sense', 'is', 'it', 'tautologous', 'it', 'supplies', 'the', 'value', 'of', 'an', 'attribute', 'followed', 'by', 'the', 'attribute', 'of', 'which', 'it', 'is', 'the', 'value', 'if', 'in', 'fact', 'the', 'value', 'of', 'the', 'name-attribute', 'for', 'the', 'relevant', 'entity', 'were', \"'\", 'chaim', 'shmendrik', \"'\", \"'\", 'john', 'mcnamara', 'the', 'name', \"'\", 'would', 'be', 'false', 'no', 'tautology', 'this', 'and', 'no', 'reduplication', 'either'])]\n"
     ]
    }
   ],
   "source": [
    "import nltk\n",
    "import re\n",
    "from nltk.corpus import stopwords\n",
    "\n",
    "def tokenize(text):\n",
    "    \"\"\" Apply the nltk.word_tokenize() method to our text, return the token list. \"\"\"\n",
    "    nltk.download('punkt') #  loads the standard NLTK tokenizer model \n",
    "    # it is important that this is done here in the function, as it needs to be done on every worker.\n",
    "    # If we do the download outside a this function, it would only be executed on the driver     \n",
    "    # use the nltk function word_tokenize   \n",
    "    return nltk.word_tokenize(text)\n",
    " \n",
    "    \n",
    "def removePunctuation(tokens):\n",
    "    \"\"\" Remove punctuation characters from all tokens in a provided list. \"\"\"\n",
    "    # this will remove all punctiation from string s: re.sub('[()\\[\\],.?!\";_]','', s)\n",
    "#>>>    # use a list comprehension to remove punctuaton\n",
    "    tokens2 =  [re.sub('[()\\[\\],.?!\";_]','', s) for s in tokens]\n",
    "    return tokens2\n",
    "    \n",
    "def prepareTokenRDD(fn_txt_RDD):\n",
    "    \"\"\" Take an RDD with (filename, text) elements and transform it into a (filename, [token ...]) RDD without punctuation characters. \"\"\"\n",
    "    rdd_vals2 = fn_txt_RDD.values() # It's convenient to process only the values. \n",
    "    rdd_vals3 = rdd_vals2.map(tokenize) # Create a tokenised version of the values by mapping\n",
    "    rdd_vals4 = rdd_vals3.map(removePunctuation) # remove punctuation from the values\n",
    "    rdd_kv = fn_txt_RDD.keys().zip(rdd_vals4) # we zip the two RDDs together \n",
    "    # i.e. produce tuples with one item from each RDD.\n",
    "    # This works because we have only applied mappings to the values, \n",
    "    # therefore the items in both RDDs are still aligned.\n",
    "    # >>> now remove any empty strings (i.e. length 0) that we may have \n",
    "    # created by removing punctuation, and resulting entries without words left.\n",
    "   # remove empty strings from token lists using RDD.map and a lambda. TIP len(s) gives you the lenght of string. \n",
    "    rdd_kvr=rdd_kv.map(lambda x: (x[0] , [i for i in x[1] if len(i)>0]))\n",
    "    # remove empty token lists using RDD.filter and a lambda.\n",
    "    rdd_kvrf=rdd_kvr.filter(lambda x: len(x[1])>0) \n",
    "    # >>> Question: why should this be filtering done after zipping the keys and values together?\n",
    "    #Post the segregation of RDD keys and values, filtering removes empty RDD values, which need to inturn be grouped to the keys, so that the opeartion is performed on thr pair, of the file and empty texts, so that tuples with empty texts are removed in conjuction with their corresponsding filenames.\n",
    "    \n",
    "    return rdd_kvrf \n",
    "\n",
    "rdd2 = prepareTokenRDD(rdd1) # Use a small RDD for testing.\n",
    "print(rdd2.take(1)) # For checking result of task 2. "
   ]
  },
  {
   "cell_type": "markdown",
   "metadata": {
    "colab_type": "text",
    "id": "q9HgRAEGkeq0"
   },
   "source": [
    "## Task 3) Creating normalised TF.IDF vectors of defined dimensionality.\n",
    "\n",
    "We use the hashing trick to create fixed size TF vectors directly from the word list now (slightly different from the previous lab, where we used `(word, count)` pairs.). Write a bit of code as needed. (5%)\n",
    "\n",
    "Then we'll use the IDF and Normalizer functions provided by Spark. They use a slightly different pattern than RDD.map and reduce, have a look at the examples here in the documentation for Normalizer  and IDF:\n",
    "[http://spark.apache.org/docs/2.4.5/api/python/pyspark.mllib.html#pyspark.mllib.feature.Normalizer](http://spark.apache.org/docs/2.4.5/api/python/pyspark.mllib.html#pyspark.mllib.feature.Normalizer), [http://spark.apache.org/docs/2.4.5/api/python/pyspark.mllib.html#pyspark.mllib.feature.IDF](http://spark.apache.org/docs/2.4.5/api/python/pyspark.mllib.html#pyspark.mllib.feature.IDF). (5%)\n",
    "\n",
    "We want control of the dimensionality in the `normTFIDF` function, so we introduce an argument into our functions that enables us to vary dimensionalty later. (5%)"
   ]
  },
  {
   "cell_type": "code",
   "execution_count": 0,
   "metadata": {
    "colab": {
     "base_uri": "https://localhost:8080/",
     "height": 35
    },
    "colab_type": "code",
    "id": "Qo_YQKAokeq0",
    "outputId": "bed00469-b0fd-4384-e56b-c233ecf13d2d"
   },
   "outputs": [
    {
     "name": "stdout",
     "output_type": "stream",
     "text": [
      "[('3-1msg1', DenseVector([0.0, 0.0449, 0.1882, 0.0, 0.0, 0.0, 0.1107, 0.0898, 0.0864, 0.1038]))]\n"
     ]
    }
   ],
   "source": [
    "# use the hashing trick to create a fixed-size vector from a word list\n",
    "def hashing_vectorize(text, N): # arguments: the list and the size of the output vector\n",
    "    v = [0] * N  # create vector of 0s\n",
    "    for word in text: # iterate through the words \n",
    "#>>>        # get the hash value \n",
    "        h=hash(word)\n",
    "#>>>        # add 1 at the hashed address\n",
    "        v[h % N]=v[h % N]+1\n",
    "    return v # return hashed word vector\n",
    "\n",
    "from pyspark.mllib.feature import IDF, Normalizer\n",
    "\n",
    "def normTFIDF(fn_tokens_RDD, vecDim):\n",
    "    keysRDD = fn_tokens_RDD.keys()\n",
    "    tokensRDD = fn_tokens_RDD.values()\n",
    "    tfVecRDD = tokensRDD.map(lambda tokens: hashing_vectorize(tokens, vecDim)) \n",
    "    idf = IDF() # create IDF object\n",
    "    idfModel = idf.fit(tfVecRDD) # calculate IDF values\n",
    "    tfIdfRDD = idfModel.transform(tfVecRDD) # 2nd pass needed (see lecture slides), transforms RDD\n",
    "#>>>    norm = ... # create a Normalizer object like in the example linked above\n",
    "    norm = Normalizer(1)     \n",
    "#>>>   . ... # and apply it to the tfIdfRDD \n",
    "    normTfIdfRDD = norm.transform(tfIdfRDD)\n",
    "#>>>     # zip the keys and values together\n",
    "    zippedRDD = keysRDD.zip(tfIdfRDD)\n",
    "    return zippedRDD\n",
    "\n",
    "testDim = 10 # too small for good accuracy, but OK for testing\n",
    "rdd3 = normTFIDF(rdd2, testDim) # test our normTFIDF function\n",
    "print(rdd3.take(1)) # we should now have tuples with ('filename', [N-dim vector])\n",
    "# e.g. [('3-1msg1', DenseVector([0.0, 0.1629, 0.6826, 0.0, 0.0, 0.0, 0.4017, 0.3258, 0.3133, 0.3766]))]"
   ]
  },
  {
   "cell_type": "markdown",
   "metadata": {
    "colab_type": "text",
    "id": "f-xzB6hrkeq5"
   },
   "source": [
    "## Task 4) Create LabeledPoints \n",
    "\n",
    "Determine whether the file is spam (i.e. the filename contains ’spmsg’) and replace the filename by a 1 (spam) or 0 (non-spam) accordingly. Use `RDD.map()` to create an RDD of LabeledPoint objects. See here [http://spark.apache.org/docs/2.4.5/mllib-linear-methods.html#logistic-regression](http://spark.apache.org/docs/2.4.5/mllib-linear-methods.html#logistic-regression) for an example, and here [http://spark.apache.org/docs/2.4.5/api/python/pyspark.mllib.html#pyspark.mllib.regression.LabeledPoint](http://spark.apache.org/docs/2.4.5/api/python/pyspark.mllib.html#pyspark.mllib.regression.LabeledPoint) for the `LabeledPoint` documentation. (10%)\n",
    "\n",
    "There is a handy function of Python strings called `startswith`: e.g. 'abc'.startswith('ab) will return true. The relevant Python syntax here is a conditional expression: **``<a> if <yourCondition> else <b>``**, i.e. 1 if the filename starts with 'spmsg' and otherwise 0."
   ]
  },
  {
   "cell_type": "code",
   "execution_count": 0,
   "metadata": {
    "colab": {
     "base_uri": "https://localhost:8080/",
     "height": 55
    },
    "colab_type": "code",
    "id": "wF9BDmnEkeq6",
    "outputId": "41af7d6b-9e55-4e8e-e398-c12662ad8ec4",
    "pixiedust": {
     "displayParams": {
      "handlerId": "tableView"
     }
    }
   },
   "outputs": [
    {
     "name": "stdout",
     "output_type": "stream",
     "text": [
      "[LabeledPoint(0.0, [0.0,0.04490505328513884,0.1881601633738228,0.0,0.0,0.0,0.11072708551318011,0.08981010657027769,0.08635587170219008,0.10380664266860636])]\n"
     ]
    }
   ],
   "source": [
    "from pyspark.mllib.regression import LabeledPoint\n",
    "\n",
    "# create labelled points of vector size N out of an RDD with normalised (filename, td.idf-vector) items\n",
    "def makeLabeledPoints(fn_vec_RDD): # RDD and N needed \n",
    "    # we determine the true class as encoded in the filename and represent as 1 (spam) or 0 (good) \n",
    "#>>>     # use a conditional expression to get the class label (True or False)\n",
    "    cls_vec_RDD = fn_vec_RDD.map(lambda x: (1, x[1]) if x[0].startswith('spmsg') else (0, x[1]))\n",
    "    # now we can create the LabeledPoint objects with (class, vector) arguments\n",
    "    lp_RDD = cls_vec_RDD.map(lambda cls_vec: LabeledPoint(cls_vec[0], cls_vec[1]) ) \n",
    "    return lp_RDD \n",
    "\n",
    "# for testing\n",
    "testLpRDD = makeLabeledPoints(rdd3)\n",
    "print(testLpRDD.take(1))\n",
    "# should look similar to this: [LabeledPoint(0.0, [0.0,0.16290896085571283,0.6826175329317583,0.0,0.0,0.0,0.40170165983309447,0.32581792171142565,0.3132864631840631,0.3765953060935261])]"
   ]
  },
  {
   "cell_type": "markdown",
   "metadata": {
    "colab_type": "text",
    "id": "vuLuz17zkeq8"
   },
   "source": [
    "## Task 5) Complete the preprocessing \n",
    "\n",
    "It will be useful to have a single function to do the preprocessing. So integrate everything here. (5%)"
   ]
  },
  {
   "cell_type": "code",
   "execution_count": 0,
   "metadata": {
    "colab": {
     "base_uri": "https://localhost:8080/",
     "height": 315
    },
    "colab_type": "code",
    "id": "h9F8Kl3ukeq9",
    "outputId": "af0d4a7f-cbef-46a8-b0a4-ec945fb09b3d"
   },
   "outputs": [
    {
     "name": "stdout",
     "output_type": "stream",
     "text": [
      "[LabeledPoint(0.0, [0.15337314654458248,0.11062033104159828,0.10036541454111285,0.0,0.0,0.053784105858553775,0.10238669888178825,0.10146046002299258,0.08040019691048406,0.06147936569260391])]\n",
      "creating RDDs\n",
      "/content/drive/My Drive/BigData2020/data/lingspam_public/lemm/part10\n",
      "/content/drive/My Drive/BigData2020/data/lingspam_public/lemm/part9\n",
      "/content/drive/My Drive/BigData2020/data/lingspam_public/lemm/part8\n",
      "/content/drive/My Drive/BigData2020/data/lingspam_public/lemm/part7\n",
      "/content/drive/My Drive/BigData2020/data/lingspam_public/lemm/part6\n",
      "/content/drive/My Drive/BigData2020/data/lingspam_public/lemm/part5\n",
      "/content/drive/My Drive/BigData2020/data/lingspam_public/lemm/part4\n",
      "/content/drive/My Drive/BigData2020/data/lingspam_public/lemm/part3\n",
      "/content/drive/My Drive/BigData2020/data/lingspam_public/lemm/part2\n",
      "/content/drive/My Drive/BigData2020/data/lingspam_public/lemm/part1\n",
      "len(rddList) 10\n",
      "creating RDD union\n",
      "[LabeledPoint(0.0, [0.20307283843884563,0.3388105105040937,0.46039477013909874,0.27045329098289245,0.39176626375000245,0.883807545889064,0.0,1.0216512475319814,0.3468709438421115,0.6646856865584034,0.0,0.32909877409631394,0.0,0.6726686492164047,0.3420047541909387,0.645546784526102,0.0,0.09172683358636242,0.2946025152963547,0.6908507907492717,0.2582348711254799,0.15242802651581214,0.0,0.0,0.0,0.4123855509527382,0.5639354490799391,0.3624145142558997,0.0,0.0,0.0,0.0,0.0,0.0,0.5884765579960568,0.0,0.8699507083201805,0.0,0.5165893284827408,0.0,0.0,1.5063043930241096,0.2627091515204009,0.8457137016400672,0.0,0.0,0.4387723061259331,0.5892050305927093,0.5340824859302579,0.3816138922859845,0.25378052077609964,0.36657601492144404,0.15033908675736105,1.5875254576670919,0.0,0.27625337662815813,0.2627091515204009,0.0,0.0,0.4713838917146939,0.0,0.0,0.0,0.0,1.3486485188606026,0.2591538425964619,0.0,0.0,0.0,1.1415434407657228,0.11692133805890229,1.7550892245037324,0.0,0.4065726126049125,0.7531521965120548,0.39176626375000245,1.011486389145452,0.0,0.0,0.5578931346239765,0.32039428342261195,0.0,0.0,0.0,0.5707717203828614,0.0,0.17681947963997116,0.38667719424253116,0.0,0.4131613229013509,0.0,0.6394430015880842,0.5947071077466928,0.322773392263051,0.0,0.24940695700191448,0.0,0.0,0.0,0.0])]\n",
      "[LabeledPoint(0.0, [0.8417970891863622,0.4889042797181796,1.160465018719626,0.8949220427222189,1.2150667968492264,1.7067775648465722,1.0121818993980698,0.6206588662935835,0.8048805481287713,1.3302302826615988,0.0,7.301949632070543,1.113942202211725,1.129430279839337,0.41581032241855465,1.8436676946998558,0.7838699569967595,0.41450389959574396,1.6874015796832444,8.23784775586505,1.591728228197939,1.0079431587281364,0.5689258549488574,0.4098894685041768,0.30928286057612064,5.924556802316443,7.703668571691145,0.7451785674000702,0.8565273932910351,1.83436041710243,2.0236342949504924,0.42035468029527384,1.3392212143100197,2.3919464912977886,0.8904160610512645,0.3696460103032112,3.159173671807989,1.3561606951697676,2.2595957221844483,0.2284358417516877,2.443905918599641,4.425639282064457,1.7216220576957906,1.132362578253069,0.21549533047595296,0.864198069932365,2.311321318260156,1.3505791549982582,3.5086384585865757,1.2560043475652716,1.5351849030185767,0.8981840152768588,0.42713318810083095,1.9949897537004855,0.836039189174854,1.0894619390352933,2.4801832018572205,3.219522192515085,1.0409378000755898,1.9523243095699254,5.9945368340280885,0.43685475999666135,0.2738309074889163,1.1106051607108025,2.974984451750536,0.9736125294379981,1.2366168741660217,0.3696460103032112,0.3035462085986875,1.3988798075997253,0.7659454885912871,1.3189280980186697,0.31505261169903814,0.47931195306831575,0.0,2.6759281385122664,0.7326657734423715,0.5901149383356645,0.7842377323105398,1.708533208069849,0.5466198218385022,3.4882533989089075,0.513626959613368,0.0,2.342413732970083,0.32616089836347245,1.2628280746527798,2.9084279704324314,0.3926872094499091,0.8771388209955783,1.366338000319632,0.0,1.8056968741018586,1.4083601544230433,0.0,1.0438825609207973,1.5281422908988371,0.9184490962322511,1.1909865246442908,0.463636609015767])]\n"
     ]
    }
   ],
   "source": [
    "# now we can apply the preprocessing chain to the data loaded in task 1 \n",
    "# N is for controlling the vector size\n",
    "def preprocess(rawRDD, N):\n",
    "    \"\"\" take a (filename,text) RDD and transform into LabelledPoint objects \n",
    "        with class labels and a TF.IDF vector with N dimensions. \n",
    "    \"\"\"\n",
    "    #>>> # apply tasks 2, 3 and 4 here\n",
    "    tokenRDD = prepareTokenRDD(rawRDD) \n",
    "    tfIdfRDD = normTFIDF(tokenRDD,N) \n",
    "    lpRDD = makeLabeledPoints(tfIdfRDD) \n",
    "    return lpRDD # return RDD with LabeledPoints\n",
    "\n",
    "# and with this we can start the whole process from a directory, N is again the vector size\n",
    "def loadAndPreprocess(directory, N):\n",
    "    \"\"\" load lingspam data from a directory and create a training and test set of preprocessed data \"\"\"\n",
    "#>>>     # read from the directory using the function created in task 1\n",
    "    trainRDD_testRDD = makeTestTrainRDDs(directory)\n",
    "#>>>     # unpack the returned tuple\n",
    "    trainRDD, testRDD = trainRDD_testRDD\n",
    "    return (preprocess(trainRDD, N), preprocess(testRDD, N)) # apply the preprocessing function defined above\n",
    "\n",
    "trainLpRDD = preprocess(trainRDD, testDim) # prepare the training data\n",
    "print(trainLpRDD.take(1)) # should look similar to previous cell's output\n",
    "\n",
    "train_test_LpRDD = loadAndPreprocess('lemm', 100) # let's re-run with another vector size\n",
    "(trainLpRDD, testLpRDD) = train_test_LpRDD\n",
    "print(testLpRDD.take(1))\n",
    "print(trainLpRDD.take(1))"
   ]
  },
  {
   "cell_type": "markdown",
   "metadata": {
    "colab_type": "text",
    "id": "gdwyXqu4keq_"
   },
   "source": [
    "## Task 6) Train some classifiers \n",
    "\n",
    "Use the `LabeledPoint` objects to train a classifier, specifically *Logistic Regression*, *Naive Bayes*, and *Support Vector Machine*. Calculate the accuracy of the model on the training set (by dividing the number of correctly recognised messages by the total number of messages, again, follow this example [http://spark.apache.org/docs/2.4.5/ml-classification-regression.html#logistic-regression](http://spark.apache.org/docs/2.4.5/ml-classification-regression.html#logistic-regression) and here is the documentation for the classifiers [LogisticRegressionWithLBFGS](http://spark.apache.org/docs/2.4.5/api/python/pyspark.mllib.html#pyspark.mllib.classification.LogisticRegressionWithLBFGS), [NaiveBayes](http://spark.apache.org/docs/2.4.5/api/python/pyspark.mllib.html#pyspark.mllib.classification.NaiveBayes), [SVMWithSGD](http://spark.apache.org/docs/2.4.5/api/python/pyspark.mllib.html#pyspark.mllib.classification.SVMWithSGD).  (10%) "
   ]
  },
  {
   "cell_type": "code",
   "execution_count": 0,
   "metadata": {
    "colab": {
     "base_uri": "https://localhost:8080/",
     "height": 121
    },
    "colab_type": "code",
    "id": "Ljcgl0mLkeq_",
    "outputId": "f1aa8d1a-9752-422f-9d4c-98fd7fb80d7f"
   },
   "outputs": [
    {
     "name": "stdout",
     "output_type": "stream",
     "text": [
      "Starting to train the model\n",
      "Trained LR (model1)\n",
      "Trained NB (model2)\n",
      "Trained SVM (model3)\n",
      "Accuracy 94.7% (data items: 2604, correct: 2465)\n"
     ]
    },
    {
     "data": {
      "text/plain": [
       "0.9466205837173579"
      ]
     },
     "execution_count": 9,
     "metadata": {
      "tags": []
     },
     "output_type": "execute_result"
    }
   ],
   "source": [
    "from pyspark.mllib.classification import NaiveBayes, LogisticRegressionWithLBFGS, SVMWithSGD\n",
    "from pyspark import StorageLevel\n",
    "\n",
    "# train the model with a LabeledPoint RDD.\n",
    "def trainModel(lpRDD):\n",
    "    \"\"\" Train 3 classifier models on the given RDD with LabeledPoint objects. A list of trained model is returned. \"\"\"\n",
    "    # Train a classifier model.\n",
    "    print('Starting to train the model') # give some immediate feedback\n",
    "    model1 = LogisticRegressionWithLBFGS.train(lpRDD) # this is the best model\n",
    "    print('Trained LR (model1)')\n",
    "    #print('type(model1)')\n",
    "    model2 = NaiveBayes.train(lpRDD) # doesn't work well\n",
    "    print('Trained NB (model2)')\n",
    "    #print(type(model2))\n",
    "    model3 = SVMWithSGD.train(lpRDD) # or this ...\n",
    "    print('Trained SVM (model3)')\n",
    "    return [model1, model2, model3]\n",
    "\n",
    "def testModel(model, lpRDD):\n",
    "    \"\"\" Tests the classification accuracy of the given model on the given RDD with LabeledPoint objects. \"\"\"\n",
    "    lpRDD.persist(StorageLevel.MEMORY_ONLY)\n",
    "    # Make prediction and evaluate training set accuracy\n",
    "    # Get the prediction and the ground truth label\n",
    "    predictionAndLabel = lpRDD.map(lambda p: (model.predict(p.features), p.label)) # get the prediction and ground truth (label) for each item\n",
    "    correct = predictionAndLabel.filter(lambda xv: xv[0] == xv[1]).count() # count the correct predictions \n",
    "#>>>    accuracy = ... # and calculate the accuracy \n",
    "    accuracy = correct/predictionAndLabel.count()\n",
    "    print('Accuracy {:.1%} (data items: {}, correct: {})'.format(accuracy, lpRDD.count(), correct)) # report to console\n",
    "    return accuracy # and return the value  \n",
    "\n",
    "models = trainModel(trainLpRDD) # just for testing\n",
    "testModel(models[2], trainLpRDD) # just for testing"
   ]
  },
  {
   "cell_type": "markdown",
   "metadata": {
    "colab_type": "text",
    "id": "8TeHFXcTkerC"
   },
   "source": [
    "## Task 7) Automate training and testing\n",
    "\n",
    "We now automate the whole process from reading the files, through preprocessing, and training up to evaluating the models. In the end we have a single function that takes all the parameters we are interested in and produces trained models and an evaluation. (5%) "
   ]
  },
  {
   "cell_type": "code",
   "execution_count": 0,
   "metadata": {
    "colab": {
     "base_uri": "https://localhost:8080/",
     "height": 589
    },
    "colab_type": "code",
    "id": "Kj_Xh5oekerD",
    "outputId": "89308b42-5ca3-4ef1-85dd-79c23dece231"
   },
   "outputs": [
    {
     "name": "stdout",
     "output_type": "stream",
     "text": [
      "Start loading and preprocessing\n",
      "creating RDDs\n",
      "/content/drive/My Drive/BigData2020/data/lingspam_public/lemm/part10\n",
      "/content/drive/My Drive/BigData2020/data/lingspam_public/lemm/part9\n",
      "/content/drive/My Drive/BigData2020/data/lingspam_public/lemm/part8\n",
      "/content/drive/My Drive/BigData2020/data/lingspam_public/lemm/part7\n",
      "/content/drive/My Drive/BigData2020/data/lingspam_public/lemm/part6\n",
      "/content/drive/My Drive/BigData2020/data/lingspam_public/lemm/part5\n",
      "/content/drive/My Drive/BigData2020/data/lingspam_public/lemm/part4\n",
      "/content/drive/My Drive/BigData2020/data/lingspam_public/lemm/part3\n",
      "/content/drive/My Drive/BigData2020/data/lingspam_public/lemm/part2\n",
      "/content/drive/My Drive/BigData2020/data/lingspam_public/lemm/part1\n",
      "len(rddList) 10\n",
      "creating RDD union\n",
      "Finished loading and preprocessing\n",
      "Starting to train the model\n",
      "Trained LR (model1)\n",
      "Trained NB (model2)\n",
      "Trained SVM (model3)\n",
      "Training\n",
      "Accuracy 100.0% (data items: 2604, correct: 2604)\n",
      "Testing\n",
      "Accuracy 97.9% (data items: 289, correct: 283)\n",
      "Training\n",
      "Accuracy 95.5% (data items: 2604, correct: 2486)\n",
      "Testing\n",
      "Accuracy 95.5% (data items: 289, correct: 276)\n",
      "Training\n",
      "Accuracy 99.0% (data items: 2604, correct: 2579)\n",
      "Testing\n",
      "Accuracy 98.6% (data items: 289, correct: 285)\n"
     ]
    },
    {
     "data": {
      "text/plain": [
       "[[1.0, 0.9546850998463902, 0.9903993855606759],\n",
       " [0.9792387543252595, 0.9550173010380623, 0.986159169550173]]"
      ]
     },
     "execution_count": 11,
     "metadata": {
      "tags": []
     },
     "output_type": "execute_result"
    }
   ],
   "source": [
    "# this function combines the previous two functions\n",
    "# this method should take RDDs with LabeledPoints\n",
    "def trainTestModel(trainRDD, testRDD):\n",
    "    \"\"\" Trains 3 models and tests them on training and test data. Returns a matrix with the training and testing (rows) accuracy values for all models (columns). \"\"\"\n",
    "#>>> models = ... # train models on the training set\n",
    "    models = trainModel(trainRDD)\n",
    "    results = [[], []] # matrix for 2 modes (training/test) vs n models (currently 3)\n",
    "    for mdl in models:\n",
    "        print('Training')\n",
    "#>>>     results[0].append(...) # test the model on the training set\n",
    "        results[0].append(testModel(mdl, trainRDD))\n",
    "        print('Testing')\n",
    "#>>>     results[1].append(...) # test the model on the test set\n",
    "        results[1].append(testModel(mdl, testRDD))\n",
    "    return results\n",
    "\n",
    "def trainTestFolder(folder,N):\n",
    "    \"\"\" Reads data from a folder, preproceses the data, and trains and evaluates models on it. \"\"\"\n",
    "    print('Start loading and preprocessing') \n",
    "    train_test_LpRDD = loadAndPreprocess(folder,N) # create the RDDs\n",
    "    print('Finished loading and preprocessing')\n",
    "    (trainLpRDD, testLpRDD) = train_test_LpRDD # unpack the RDDs \n",
    "    return trainTestModel(trainLpRDD,testLpRDD) # train and test\n",
    "\n",
    "trainTestFolder('lemm', 1000) "
   ]
  },
  {
   "cell_type": "markdown",
   "metadata": {
    "colab_type": "text",
    "id": "pzcNex1NkerF"
   },
   "source": [
    "## Task 8) Run experiments \n",
    "\n",
    "We have now a single function that allows us to vary the vector size easily. Test vector sizes 3, 30, 300, 3000, 30000 and examine the effect on the classification accuracy in Experiment 1.\n",
    "\n",
    "Use the function from Task 7) to test different data types. The dataset has raw text in folder `bare`, lemmatised text in  `lemm` (similar to stemming, reduces to basic word forms), `stop` (with stopwords removed), and `lemm_stop` (lemmatised and stopwords removed). Test how the classification accuracy differs for these four data types in Experiment 2. Collect the results in a data structure that can be saved for later analyis.\n",
    "\n",
    "Comment on the results in a few sentences, considering the differences in performance between the different conditions as well as train an test values. (15%)"
   ]
  },
  {
   "cell_type": "code",
   "execution_count": 0,
   "metadata": {
    "colab": {
     "base_uri": "https://localhost:8080/",
     "height": 1000
    },
    "colab_type": "code",
    "id": "HmW_CpetkerG",
    "outputId": "a4dca71a-259e-47aa-c877-e00064ef7d7b",
    "scrolled": false
   },
   "outputs": [
    {
     "name": "stdout",
     "output_type": "stream",
     "text": [
      "EXPERIMENT 1: Testing different vector sizes\n",
      "\n",
      "N = 3\n",
      "Start loading and preprocessing\n",
      "creating RDDs\n",
      "/content/drive/My Drive/BigData2020/data/lingspam_public/bare/part10\n",
      "/content/drive/My Drive/BigData2020/data/lingspam_public/bare/part9\n",
      "/content/drive/My Drive/BigData2020/data/lingspam_public/bare/part8\n",
      "/content/drive/My Drive/BigData2020/data/lingspam_public/bare/part7\n",
      "/content/drive/My Drive/BigData2020/data/lingspam_public/bare/part6\n",
      "/content/drive/My Drive/BigData2020/data/lingspam_public/bare/part5\n",
      "/content/drive/My Drive/BigData2020/data/lingspam_public/bare/part4\n",
      "/content/drive/My Drive/BigData2020/data/lingspam_public/bare/part3\n",
      "/content/drive/My Drive/BigData2020/data/lingspam_public/bare/part2\n",
      "/content/drive/My Drive/BigData2020/data/lingspam_public/bare/part1\n",
      "len(rddList) 10\n",
      "creating RDD union\n",
      "Finished loading and preprocessing\n",
      "Starting to train the model\n",
      "Trained LR (model1)\n",
      "Trained NB (model2)\n",
      "Trained SVM (model3)\n",
      "Training\n",
      "Accuracy 83.4% (data items: 2604, correct: 2171)\n",
      "Testing\n",
      "Accuracy 83.4% (data items: 289, correct: 241)\n",
      "Training\n",
      "Accuracy 83.4% (data items: 2604, correct: 2171)\n",
      "Testing\n",
      "Accuracy 83.4% (data items: 289, correct: 241)\n",
      "Training\n",
      "Accuracy 83.4% (data items: 2604, correct: 2171)\n",
      "Testing\n",
      "Accuracy 83.4% (data items: 289, correct: 241)\n",
      "\n",
      "N = 30\n",
      "Start loading and preprocessing\n",
      "creating RDDs\n",
      "/content/drive/My Drive/BigData2020/data/lingspam_public/bare/part10\n",
      "/content/drive/My Drive/BigData2020/data/lingspam_public/bare/part9\n",
      "/content/drive/My Drive/BigData2020/data/lingspam_public/bare/part8\n",
      "/content/drive/My Drive/BigData2020/data/lingspam_public/bare/part7\n",
      "/content/drive/My Drive/BigData2020/data/lingspam_public/bare/part6\n",
      "/content/drive/My Drive/BigData2020/data/lingspam_public/bare/part5\n",
      "/content/drive/My Drive/BigData2020/data/lingspam_public/bare/part4\n",
      "/content/drive/My Drive/BigData2020/data/lingspam_public/bare/part3\n",
      "/content/drive/My Drive/BigData2020/data/lingspam_public/bare/part2\n",
      "/content/drive/My Drive/BigData2020/data/lingspam_public/bare/part1\n",
      "len(rddList) 10\n",
      "creating RDD union\n",
      "Finished loading and preprocessing\n",
      "Starting to train the model\n",
      "Trained LR (model1)\n",
      "Trained NB (model2)\n",
      "Trained SVM (model3)\n",
      "Training\n",
      "Accuracy 84.6% (data items: 2604, correct: 2202)\n",
      "Testing\n",
      "Accuracy 82.7% (data items: 289, correct: 239)\n",
      "Training\n",
      "Accuracy 84.4% (data items: 2604, correct: 2199)\n",
      "Testing\n",
      "Accuracy 84.1% (data items: 289, correct: 243)\n",
      "Training\n",
      "Accuracy 84.6% (data items: 2604, correct: 2202)\n",
      "Testing\n",
      "Accuracy 82.7% (data items: 289, correct: 239)\n",
      "\n",
      "N = 300\n",
      "Start loading and preprocessing\n",
      "creating RDDs\n",
      "/content/drive/My Drive/BigData2020/data/lingspam_public/bare/part10\n",
      "/content/drive/My Drive/BigData2020/data/lingspam_public/bare/part9\n",
      "/content/drive/My Drive/BigData2020/data/lingspam_public/bare/part8\n",
      "/content/drive/My Drive/BigData2020/data/lingspam_public/bare/part7\n",
      "/content/drive/My Drive/BigData2020/data/lingspam_public/bare/part6\n",
      "/content/drive/My Drive/BigData2020/data/lingspam_public/bare/part5\n",
      "/content/drive/My Drive/BigData2020/data/lingspam_public/bare/part4\n",
      "/content/drive/My Drive/BigData2020/data/lingspam_public/bare/part3\n",
      "/content/drive/My Drive/BigData2020/data/lingspam_public/bare/part2\n",
      "/content/drive/My Drive/BigData2020/data/lingspam_public/bare/part1\n",
      "len(rddList) 10\n",
      "creating RDD union\n",
      "Finished loading and preprocessing\n",
      "Starting to train the model\n",
      "Trained LR (model1)\n",
      "Trained NB (model2)\n",
      "Trained SVM (model3)\n",
      "Training\n",
      "Accuracy 100.0% (data items: 2604, correct: 2604)\n",
      "Testing\n",
      "Accuracy 96.5% (data items: 289, correct: 279)\n",
      "Training\n",
      "Accuracy 93.7% (data items: 2604, correct: 2439)\n",
      "Testing\n",
      "Accuracy 91.7% (data items: 289, correct: 265)\n",
      "Training\n",
      "Accuracy 97.4% (data items: 2604, correct: 2537)\n",
      "Testing\n",
      "Accuracy 93.4% (data items: 289, correct: 270)\n",
      "\n",
      "N = 3000\n",
      "Start loading and preprocessing\n",
      "creating RDDs\n",
      "/content/drive/My Drive/BigData2020/data/lingspam_public/bare/part10\n",
      "/content/drive/My Drive/BigData2020/data/lingspam_public/bare/part9\n",
      "/content/drive/My Drive/BigData2020/data/lingspam_public/bare/part8\n",
      "/content/drive/My Drive/BigData2020/data/lingspam_public/bare/part7\n",
      "/content/drive/My Drive/BigData2020/data/lingspam_public/bare/part6\n",
      "/content/drive/My Drive/BigData2020/data/lingspam_public/bare/part5\n",
      "/content/drive/My Drive/BigData2020/data/lingspam_public/bare/part4\n",
      "/content/drive/My Drive/BigData2020/data/lingspam_public/bare/part3\n",
      "/content/drive/My Drive/BigData2020/data/lingspam_public/bare/part2\n",
      "/content/drive/My Drive/BigData2020/data/lingspam_public/bare/part1\n",
      "len(rddList) 10\n",
      "creating RDD union\n",
      "Finished loading and preprocessing\n",
      "Starting to train the model\n",
      "Trained LR (model1)\n",
      "Trained NB (model2)\n",
      "Trained SVM (model3)\n",
      "Training\n",
      "Accuracy 100.0% (data items: 2604, correct: 2604)\n",
      "Testing\n",
      "Accuracy 98.6% (data items: 289, correct: 285)\n",
      "Training\n",
      "Accuracy 98.1% (data items: 2604, correct: 2554)\n",
      "Testing\n",
      "Accuracy 96.5% (data items: 289, correct: 279)\n",
      "Training\n",
      "Accuracy 99.3% (data items: 2604, correct: 2586)\n",
      "Testing\n",
      "Accuracy 98.6% (data items: 289, correct: 285)\n",
      "\n",
      "N = 30000\n",
      "Start loading and preprocessing\n",
      "creating RDDs\n",
      "/content/drive/My Drive/BigData2020/data/lingspam_public/bare/part10\n",
      "/content/drive/My Drive/BigData2020/data/lingspam_public/bare/part9\n",
      "/content/drive/My Drive/BigData2020/data/lingspam_public/bare/part8\n",
      "/content/drive/My Drive/BigData2020/data/lingspam_public/bare/part7\n",
      "/content/drive/My Drive/BigData2020/data/lingspam_public/bare/part6\n",
      "/content/drive/My Drive/BigData2020/data/lingspam_public/bare/part5\n",
      "/content/drive/My Drive/BigData2020/data/lingspam_public/bare/part4\n",
      "/content/drive/My Drive/BigData2020/data/lingspam_public/bare/part3\n",
      "/content/drive/My Drive/BigData2020/data/lingspam_public/bare/part2\n",
      "/content/drive/My Drive/BigData2020/data/lingspam_public/bare/part1\n",
      "len(rddList) 10\n",
      "creating RDD union\n",
      "Finished loading and preprocessing\n",
      "Starting to train the model\n",
      "Trained LR (model1)\n",
      "Trained NB (model2)\n",
      "Trained SVM (model3)\n",
      "Training\n",
      "Accuracy 100.0% (data items: 2604, correct: 2604)\n",
      "Testing\n",
      "Accuracy 98.6% (data items: 289, correct: 285)\n",
      "Training\n",
      "Accuracy 99.6% (data items: 2604, correct: 2594)\n",
      "Testing\n",
      "Accuracy 97.9% (data items: 289, correct: 283)\n",
      "Training\n",
      "Accuracy 99.8% (data items: 2604, correct: 2598)\n",
      "Testing\n",
      "Accuracy 99.0% (data items: 289, correct: 286)\n"
     ]
    }
   ],
   "source": [
    "folder = 'bare'\n",
    "vectorsizes = [3, 30, 300, 3000, 30000]\n",
    "print('EXPERIMENT 1: Testing different vector sizes')\n",
    "results_vectorsizes = []\n",
    "for n in vectorsizes:\n",
    "    print('\\nN = {}'.format(n))\n",
    "    result = {'n': n, 't': folder}\n",
    "    result['acc'] = trainTestFolder(folder, n)\n",
    "    results_vectorsizes.append(result)"
   ]
  },
  {
   "cell_type": "code",
   "execution_count": 0,
   "metadata": {
    "colab": {
     "base_uri": "https://localhost:8080/",
     "height": 1000
    },
    "colab_type": "code",
    "id": "Y3ll1Ag9BLqb",
    "outputId": "a9b26212-ab62-4c8a-f419-0e593fd0fe9e"
   },
   "outputs": [
    {
     "name": "stdout",
     "output_type": "stream",
     "text": [
      "EXPERIMENT 2: Testing different data types\n",
      "\n",
      "Path = bare\n",
      "Start loading and preprocessing\n",
      "[PosixPath('bare/part10'), PosixPath('bare/part9'), PosixPath('bare/part8'), PosixPath('bare/part7'), PosixPath('bare/part6'), PosixPath('bare/part5'), PosixPath('bare/part4'), PosixPath('bare/part3'), PosixPath('bare/part2'), PosixPath('bare/part1')]\n",
      "creating RDDs\n",
      "/content/drive/My Drive/BigData2020/data/lingspam_public/bare/part10\n",
      "/content/drive/My Drive/BigData2020/data/lingspam_public/bare/part9\n",
      "/content/drive/My Drive/BigData2020/data/lingspam_public/bare/part8\n",
      "/content/drive/My Drive/BigData2020/data/lingspam_public/bare/part7\n",
      "/content/drive/My Drive/BigData2020/data/lingspam_public/bare/part6\n",
      "/content/drive/My Drive/BigData2020/data/lingspam_public/bare/part5\n",
      "/content/drive/My Drive/BigData2020/data/lingspam_public/bare/part4\n",
      "/content/drive/My Drive/BigData2020/data/lingspam_public/bare/part3\n",
      "/content/drive/My Drive/BigData2020/data/lingspam_public/bare/part2\n",
      "/content/drive/My Drive/BigData2020/data/lingspam_public/bare/part1\n",
      "len(rddList) 10\n",
      "[('file:/content/drive/My Drive/BigData2020/data/lingspam_public/bare/part9/8-817msg1.txt', 'Subject: disc : grammar in uk schools\\n\\ni was disturbed to find some traditional fallacies in geoffrey sampson \\'s discussion of the teaching of grammar in schools . though i no longer have a copy of prof . cameron \\'s original post , i do recall the essentials of it , and found that mr . sampson had passed over the valid point it was making in favour of a prescriptivist , \" back to basics \" defense of traditional grammatical education . prof . cameron is perfectly correct in ridiculing the inflexible , rote and prescriptive approach to grammar which is conventionally inflicted on students throughout the english speaking world . the issue of being able to use standard english ( or perhaps _ a _ standard english ) correctly is entirely separate from the reliance on traditional \" rules \" which are frequently unhelpful , and often grossly inaccurate . the rule regarding finishing sentences with prepositions , as one glaring example , is a total misunderstanding of both the history of english , and an unhelpful preoccupation for effective communication . > strikes me as akin to suggesting that teachers of > french should forget about teaching the past participle of \" vivre \" in > favour of getting their pupils to develop considered opinions about > the theories of derrida . though mr . sampson has used an interesting rhetorical image here , it is in fact a false analogy . teaching students to get a feel for the function of grammar and language is a far cry from teaching them gb theory or hpsg . an understanding of how sentences , clauses , verb tenses , adverbs , etc . actually function on a basic level is a very reasonable educational goal , and far more worthy then just creating a bunch of \" do n\\'t \" \\'s and \" never \" \\'s and calling that grammatical education . > beyond that , though , teaching orthography and grammar at school level > has a much broader educational value . one of the lessons we all have > to learn is that nothing big and worthwhile is ever achieved in this > life without careful attention to endless tedious and often arbitrary > details . at the risk of making a gross national stereotype , i feel compelled to quote george bernard shaw : \" the british believe that they are moral when they are merely uncomfortable . \" this notion that education ( or work , for that matter ) must be unpleasant to produce results is a puritanical relic . in my personal experience , the very successful people tend to be precisely the ones who know how to delegate , slough off or avoid wasting time with \" tedious and arbitrary details \" . ( please read the preceding paragraph with the tongue planted in the general vicinity of the cheek . ) in a spirit of greater seriousness though , i would like to second prof . cameron \\'s call to educators to abandon prescriptive , rule-based approaches to grammar , and embrace a more general approach based on a comprehension of more fluid and meaningful principles . i believe that the result would be students with a better grasp of the form and function of language rather than a shallow and inflexible mastery of facile rules . - - - - marc hamann\\n')]\n",
      "creating RDD union\n",
      "Finished loading and preprocessing\n",
      "Starting to train the model\n",
      "Trained LR (model1)\n",
      "Trained NB (model2)\n",
      "Trained SVM (model3)\n",
      "Training\n",
      "Accuracy 100.0% (data items: 2604, correct: 2604)\n",
      "Testing\n",
      "Accuracy 98.6% (data items: 289, correct: 285)\n",
      "Training\n",
      "Accuracy 98.1% (data items: 2604, correct: 2554)\n",
      "Testing\n",
      "Accuracy 96.5% (data items: 289, correct: 279)\n",
      "Training\n",
      "Accuracy 99.3% (data items: 2604, correct: 2586)\n",
      "Testing\n",
      "Accuracy 98.6% (data items: 289, correct: 285)\n",
      "\n",
      "Path = stop\n",
      "Start loading and preprocessing\n",
      "[PosixPath('stop/part10'), PosixPath('stop/part9'), PosixPath('stop/part8'), PosixPath('stop/part7'), PosixPath('stop/part6'), PosixPath('stop/part5'), PosixPath('stop/part4'), PosixPath('stop/part3'), PosixPath('stop/part2'), PosixPath('stop/part1')]\n",
      "creating RDDs\n",
      "/content/drive/My Drive/BigData2020/data/lingspam_public/stop/part10\n",
      "/content/drive/My Drive/BigData2020/data/lingspam_public/stop/part9\n",
      "/content/drive/My Drive/BigData2020/data/lingspam_public/stop/part8\n",
      "/content/drive/My Drive/BigData2020/data/lingspam_public/stop/part7\n",
      "/content/drive/My Drive/BigData2020/data/lingspam_public/stop/part6\n",
      "/content/drive/My Drive/BigData2020/data/lingspam_public/stop/part5\n",
      "/content/drive/My Drive/BigData2020/data/lingspam_public/stop/part4\n",
      "/content/drive/My Drive/BigData2020/data/lingspam_public/stop/part3\n",
      "/content/drive/My Drive/BigData2020/data/lingspam_public/stop/part2\n",
      "/content/drive/My Drive/BigData2020/data/lingspam_public/stop/part1\n",
      "len(rddList) 10\n",
      "[('file:/content/drive/My Drive/BigData2020/data/lingspam_public/stop/part9/8-817msg1.txt', 'Subject: disc : grammar uk schools\\n\\nwas disturbed traditional fallacies geoffrey sampson \\'s discussion teaching grammar schools . though longer copy prof . cameron \\'s original post , recall essentials , found mr . sampson had passed over valid point was making favour prescriptivist , \" back basics \" defense traditional grammatical education . prof . cameron is perfectly correct ridiculing inflexible , rote prescriptive approach grammar is conventionally inflicted students throughout english speaking world . issue being able standard english ( perhaps _ _ standard english ) correctly is entirely separate reliance traditional \" rules \" are frequently unhelpful , often grossly inaccurate . rule regarding finishing sentences prepositions , one glaring example , is total misunderstanding both history english , unhelpful preoccupation effective communication . > strikes akin suggesting teachers > french forget teaching past participle \" vivre \" > favour getting pupils develop considered opinions > theories derrida . though mr . sampson has used interesting rhetorical image here , is fact false analogy . teaching students feel function grammar language is far cry teaching gb theory hpsg . understanding sentences , clauses , verb tenses , adverbs , etc . actually function basic level is reasonable educational goal , far worthy creating bunch \" n\\'t \" \\'s \" never \" \\'s calling grammatical education . > beyond , though , teaching orthography grammar school level > has much broader educational value . one lessons > learn is nothing big worthwhile is ever achieved > life without careful attention endless tedious often arbitrary > details . risk making gross national stereotype , feel compelled quote george bernard shaw : \" british believe are moral are merely uncomfortable . \" notion education ( work , matter ) must unpleasant produce results is puritanical relic . personal experience , successful tend precisely ones delegate , slough off avoid wasting \" tedious arbitrary details \" . ( please read preceding paragraph tongue planted general vicinity cheek . ) spirit greater seriousness though , second prof . cameron \\'s call educators abandon prescriptive , rule-based approaches grammar , embrace general approach based comprehension fluid meaningful principles . believe result students better grasp form function language rather shallow inflexible mastery facile rules . - - - - marc hamann\\n')]\n",
      "creating RDD union\n",
      "Finished loading and preprocessing\n",
      "Starting to train the model\n",
      "Trained LR (model1)\n"
     ]
    }
   ],
   "source": [
    "n = 3000\n",
    "typeFolders = ['bare', 'stop', 'lemm', 'lemm_stop']\n",
    "print('EXPERIMENT 2: Testing different data types')\n",
    "results_preprocessing = []\n",
    "for folder in typeFolders:\n",
    "    print('\\nPath = {}'.format(folder))\n",
    "    result = {'n': n, 't': folder}\n",
    "    result['acc'] = trainTestFolder(folder, n)\n",
    "    results_preprocessing.append(result)\n",
    "\n",
    "# Add comments on the performance in a cell below. "
   ]
  },
  {
   "cell_type": "markdown",
   "metadata": {
    "colab_type": "text",
    "id": "l9n4ecn_Z3_k"
   },
   "source": [
    "Overall, there is a difference between training and test performance, which is to be expected. In line with expectations, the training error is smaller than the test error. \n",
    "\n",
    "A large disparity between training and test error is indicative of overfitting (the training model capturing the noise in the data); and a large value for both train and test error displays underfitting. When N=3, 30  (which is for small sample sizes), the training and test performance is close to equal for all models, displaying lack of data to classify; and models predicting the majority class (i.e.) no spam). As N increases, for all models both training and testing accuracy is increased, however beyond a point the increase in accuracy with increase in N starts flattening out, indicating overfitting (the model capturing the noise in the data). Further, the curse of dimensionality is likely to overweigh, where documents don’t have 30,000 tokens and vector would contain many 0s.\n",
    "\n",
    "Out of three models, LR outperforms SVM and NB. All the propose models are linear models. Text classification problems are usually linearly separable cause text representations are high dimensional and the higher the dimensionality, the easier it is to linearly separate data.\n",
    "\n",
    "The learning mechanism for logistic regression and Naive Bayes is different. Logistic regression is a discriminative model which directly models the posterior probability of P(y|x) by learning the input to output mapping by minimising the error. Whereas, Naive Bayes is a generative; which models the joint distribution of the feature X and target Y, and then predicts the posterior probability given as P(y|x). Naive Bayes assumes conditional independence of features, and in a problem like text classification where tokens are expected to be dependent on each other, logistic regression which splits feature space linearly works better than NB when some of the variables are correlated. \n",
    "\n",
    "However, when N is small, the information/data on prior probabilities help in improving the results in case of Naive Bayes. Thus, we can see not much difference between LR and NB errors when N=3,30. \n",
    "\n",
    "Logistic regression model outperforms the SVM. SVM minimizes hinge loss while logistic regression minimizes logistic loss function. The loss function doesn’t actually reach zero for any value along the x-axis for logistic regression, whereas it does for some values, for the SVM. If the loss function is zero over a range, there is a greater chance of mis-classification there. Practically, this means that logistic regression works better when the classes are closely separated (as in the spam, non-spam case), while SVMs work well when the classes are well separated. \n",
    "\n",
    "In case of class imbalance, like in our case with close to 84% spam files, accuracy may not be the best measure. The ROC metrics should be the measure of choice in this case because the precision and recall would reflect mostly the ability of prediction of the positive class and not the negative class; which is harder to predict due to the smaller number of samples. \n",
    "\n",
    "Lemmatization is capturing the change in form that is meaningful is said to be related derivationally from one form to the other. Grouping such words together is expected to improve the performance of the model. Words such as articles and some verbs are usually considered stop words because they don't help us to find the context or the true meaning of a sentence. These are words that can be removed without any negative consequences to the final model that you are training helping eliminate outliers and noise from the data. Both of these techniques help in reducing overfitting to the training data. However, as can be seen, these techniques do not help improve performance in our model indicating the lack of derivate words or stop words.\n"
   ]
  }
 ],
 "metadata": {
  "colab": {
   "collapsed_sections": [],
   "name": "Copy of Coursework-Part1.ipynb",
   "provenance": []
  },
  "kernelspec": {
   "display_name": "Python 3",
   "language": "python",
   "name": "python3"
  },
  "language_info": {
   "codemirror_mode": {
    "name": "ipython",
    "version": 3
   },
   "file_extension": ".py",
   "mimetype": "text/x-python",
   "name": "python",
   "nbconvert_exporter": "python",
   "pygments_lexer": "ipython3",
   "version": "3.7.7"
  }
 },
 "nbformat": 4,
 "nbformat_minor": 1
}
